{
 "cells": [
  {
   "cell_type": "code",
   "execution_count": 1,
   "metadata": {},
   "outputs": [],
   "source": [
    "%load_ext autoreload\n",
    "%autoreload 2"
   ]
  },
  {
   "cell_type": "code",
   "execution_count": 2,
   "metadata": {},
   "outputs": [],
   "source": [
    "import numpy as np\n",
    "import pandas as pd \n",
    "\n",
    "from tqdm import tqdm\n",
    "from utils import *"
   ]
  },
  {
   "cell_type": "code",
   "execution_count": 3,
   "metadata": {},
   "outputs": [
    {
     "name": "stdout",
     "output_type": "stream",
     "text": [
      "Files already downloaded and verified\n",
      "Files already downloaded and verified\n"
     ]
    }
   ],
   "source": [
    "train_set, train_labels, test_set, test_labels = load_and_preprocess_data(path='./data/CIFAR10')"
   ]
  },
  {
   "cell_type": "code",
   "execution_count": 4,
   "metadata": {},
   "outputs": [],
   "source": [
    "mu = 1e-3\n",
    "rho = 1e-4\n",
    "\n",
    "input_size = 32 * 32 * 3\n",
    "hidden_size = 2048\n",
    "output_size = 10"
   ]
  },
  {
   "cell_type": "code",
   "execution_count": 5,
   "metadata": {},
   "outputs": [],
   "source": [
    "def train_network(model: NeuralNetwork, train_set, train_labels, num_epochs):\n",
    "    N_samples = train_set.shape[0]\n",
    "\n",
    "    # Add accuracy and loss tracking\n",
    "\n",
    "    for epoch in range(num_epochs):\n",
    "        \n",
    "        data_idx = np.random.permutation(N_samples)\n",
    "        running_epoch_loss = 0\n",
    "        running_predictions = []\n",
    "        running_labels = []\n",
    "        \n",
    "        pbar = tqdm(total=N_samples)\n",
    "        for iter, idx in enumerate(data_idx):\n",
    "            h = train_set[idx]\n",
    "            gamma = transform_label(train_labels[idx])\n",
    "\n",
    "            gamma_hat = model.forward(h)\n",
    "            loss = cross_entropy_loss(gamma_hat, gamma, model.rho, model.weights())\n",
    "            model.backward(gamma_hat, gamma)\n",
    "\n",
    "            running_epoch_loss += loss\n",
    "    \n",
    "            running_predictions.append(np.argmax(gamma_hat))\n",
    "            running_labels.append(train_labels[idx])\n",
    "\n",
    "            pbar.update(1)\n",
    "            pbar.set_description(f'Train loss: {loss:.4f}')\n",
    "        pbar.close()\n",
    "\n",
    "        epoch_loss = running_epoch_loss / N_samples\n",
    "        epoch_accuracy = np.mean(np.array(running_predictions) == np.array(running_labels))\n",
    "\n",
    "        print(f\"Epoch: {epoch + 1} | Train Loss {epoch_loss:.4f} | Train Accuracy: {epoch_accuracy * 100:.2f}%\")\n",
    "\n",
    "    model.normalize_weights()"
   ]
  },
  {
   "cell_type": "code",
   "execution_count": 6,
   "metadata": {},
   "outputs": [],
   "source": [
    "def evaluate(model: NeuralNetwork, dataset, labels):\n",
    "    N_samples = dataset.shape[0]\n",
    "\n",
    "    running_predictions = []\n",
    "    running_labels = []\n",
    "\n",
    "    pbar = tqdm(total=N_samples)\n",
    "    for idx in range(N_samples):\n",
    "        h = dataset[idx]\n",
    "        gamma = transform_label(labels[idx])\n",
    "        gamma_hat = model.forward(h)\n",
    "\n",
    "        running_predictions.append(np.argmax(gamma_hat))\n",
    "        running_labels.append(labels[idx])\n",
    "\n",
    "        pbar.update(1)\n",
    "        pbar.set_description(\"Evaluating...\")\n",
    "    pbar.close()\n",
    "\n",
    "    num_misclassified = np.sum(np.array(running_predictions) != np.array(running_labels))\n",
    "    error = num_misclassified / N_samples\n",
    "    accuracy = 1 - error\n",
    "\n",
    "    print(f\"Accuracy: {accuracy * 100:.2f}% | Error: {error * 100:.2f}% | Misclassified: {num_misclassified}\")\n",
    "\n",
    "    return accuracy, error, num_misclassified\n"
   ]
  },
  {
   "cell_type": "markdown",
   "metadata": {},
   "source": [
    "### Training without dropout"
   ]
  },
  {
   "cell_type": "code",
   "execution_count": 7,
   "metadata": {},
   "outputs": [],
   "source": [
    "model = NeuralNetwork(input_size, hidden_size, output_size, ReLU, d_ReLU, mu, rho)"
   ]
  },
  {
   "cell_type": "code",
   "execution_count": 8,
   "metadata": {},
   "outputs": [
    {
     "name": "stderr",
     "output_type": "stream",
     "text": [
      "Train loss: 2.3248: 100%|██████████| 5000/5000 [05:30<00:00, 15.14it/s]\n"
     ]
    },
    {
     "name": "stdout",
     "output_type": "stream",
     "text": [
      "Epoch: 1 | Train Loss 2.1293 | Train Accuracy: 27.32%\n"
     ]
    },
    {
     "name": "stderr",
     "output_type": "stream",
     "text": [
      "Train loss: 0.9243: 100%|██████████| 5000/5000 [06:18<00:00, 13.21it/s]  \n"
     ]
    },
    {
     "name": "stdout",
     "output_type": "stream",
     "text": [
      "Epoch: 2 | Train Loss 1.8460 | Train Accuracy: 39.04%\n"
     ]
    },
    {
     "name": "stderr",
     "output_type": "stream",
     "text": [
      "Train loss: 1.1782: 100%|██████████| 5000/5000 [05:10<00:00, 16.12it/s]\n"
     ]
    },
    {
     "name": "stdout",
     "output_type": "stream",
     "text": [
      "Epoch: 3 | Train Loss 1.7118 | Train Accuracy: 43.66%\n"
     ]
    },
    {
     "name": "stderr",
     "output_type": "stream",
     "text": [
      "Train loss: 0.8550: 100%|██████████| 5000/5000 [05:09<00:00, 16.17it/s]\n"
     ]
    },
    {
     "name": "stdout",
     "output_type": "stream",
     "text": [
      "Epoch: 4 | Train Loss 1.6007 | Train Accuracy: 48.14%\n"
     ]
    },
    {
     "name": "stderr",
     "output_type": "stream",
     "text": [
      "Train loss: 2.8094: 100%|██████████| 5000/5000 [04:58<00:00, 16.73it/s]"
     ]
    },
    {
     "name": "stdout",
     "output_type": "stream",
     "text": [
      "Epoch: 5 | Train Loss 1.5025 | Train Accuracy: 51.26%\n"
     ]
    },
    {
     "name": "stderr",
     "output_type": "stream",
     "text": [
      "\n"
     ]
    }
   ],
   "source": [
    "train_network(model, train_set[:5000], train_labels[:5000], num_epochs=5)"
   ]
  },
  {
   "cell_type": "code",
   "execution_count": 9,
   "metadata": {},
   "outputs": [
    {
     "name": "stderr",
     "output_type": "stream",
     "text": [
      "Evaluating...: 100%|██████████| 5000/5000 [00:33<00:00, 151.11it/s]"
     ]
    },
    {
     "name": "stdout",
     "output_type": "stream",
     "text": [
      "Accuracy: 54.14% | Error: 45.86% | Misclassified: 2293\n"
     ]
    },
    {
     "name": "stderr",
     "output_type": "stream",
     "text": [
      "\n"
     ]
    }
   ],
   "source": [
    "train_acc, train_err, train_misc = evaluate(model, train_set[:5000], train_labels[:5000])"
   ]
  },
  {
   "cell_type": "code",
   "execution_count": 10,
   "metadata": {},
   "outputs": [
    {
     "name": "stderr",
     "output_type": "stream",
     "text": [
      "Evaluating...: 100%|██████████| 10000/10000 [01:43<00:00, 96.63it/s]"
     ]
    },
    {
     "name": "stdout",
     "output_type": "stream",
     "text": [
      "Accuracy: 39.86% | Error: 60.14% | Misclassified: 6014\n"
     ]
    },
    {
     "name": "stderr",
     "output_type": "stream",
     "text": [
      "\n"
     ]
    }
   ],
   "source": [
    "test_acc, test_err, test_misc = evaluate(model, test_set, test_labels)"
   ]
  },
  {
   "cell_type": "markdown",
   "metadata": {},
   "source": [
    "### Training with dropout"
   ]
  },
  {
   "cell_type": "code",
   "execution_count": 7,
   "metadata": {},
   "outputs": [],
   "source": [
    "model = NeuralNetwork(input_size, hidden_size, output_size, ReLU, d_ReLU, mu, rho, p_dropout=[0.1, 0.5, 0.5])"
   ]
  },
  {
   "cell_type": "code",
   "execution_count": 8,
   "metadata": {},
   "outputs": [
    {
     "name": "stderr",
     "output_type": "stream",
     "text": [
      "Train loss: 2.6504: 100%|██████████| 5000/5000 [05:14<00:00, 15.92it/s]\n"
     ]
    },
    {
     "name": "stdout",
     "output_type": "stream",
     "text": [
      "Epoch: 1 | Train Loss 2.3851 | Train Accuracy: 16.24%\n"
     ]
    },
    {
     "name": "stderr",
     "output_type": "stream",
     "text": [
      "Train loss: 0.8335: 100%|██████████| 5000/5000 [05:12<00:00, 15.98it/s]\n"
     ]
    },
    {
     "name": "stdout",
     "output_type": "stream",
     "text": [
      "Epoch: 2 | Train Loss 2.1594 | Train Accuracy: 25.40%\n"
     ]
    },
    {
     "name": "stderr",
     "output_type": "stream",
     "text": [
      "Train loss: 2.5758: 100%|██████████| 5000/5000 [05:07<00:00, 16.27it/s]\n"
     ]
    },
    {
     "name": "stdout",
     "output_type": "stream",
     "text": [
      "Epoch: 3 | Train Loss 2.0503 | Train Accuracy: 30.58%\n"
     ]
    },
    {
     "name": "stderr",
     "output_type": "stream",
     "text": [
      "Train loss: 0.9382: 100%|██████████| 5000/5000 [05:05<00:00, 16.37it/s]\n"
     ]
    },
    {
     "name": "stdout",
     "output_type": "stream",
     "text": [
      "Epoch: 4 | Train Loss 1.9863 | Train Accuracy: 32.62%\n"
     ]
    },
    {
     "name": "stderr",
     "output_type": "stream",
     "text": [
      "Train loss: 1.4212: 100%|██████████| 5000/5000 [04:58<00:00, 16.74it/s]\n"
     ]
    },
    {
     "name": "stdout",
     "output_type": "stream",
     "text": [
      "Epoch: 5 | Train Loss 1.9219 | Train Accuracy: 34.84%\n"
     ]
    },
    {
     "name": "stderr",
     "output_type": "stream",
     "text": [
      "Train loss: 1.2726: 100%|██████████| 5000/5000 [05:21<00:00, 15.54it/s]\n"
     ]
    },
    {
     "name": "stdout",
     "output_type": "stream",
     "text": [
      "Epoch: 6 | Train Loss 1.8718 | Train Accuracy: 36.66%\n"
     ]
    },
    {
     "name": "stderr",
     "output_type": "stream",
     "text": [
      "Train loss: 1.6974: 100%|██████████| 5000/5000 [05:07<00:00, 16.28it/s]\n"
     ]
    },
    {
     "name": "stdout",
     "output_type": "stream",
     "text": [
      "Epoch: 7 | Train Loss 1.8381 | Train Accuracy: 38.66%\n"
     ]
    },
    {
     "name": "stderr",
     "output_type": "stream",
     "text": [
      "Train loss: 1.7111: 100%|██████████| 5000/5000 [05:18<00:00, 15.71it/s]\n"
     ]
    },
    {
     "name": "stdout",
     "output_type": "stream",
     "text": [
      "Epoch: 8 | Train Loss 1.7960 | Train Accuracy: 40.80%\n"
     ]
    }
   ],
   "source": [
    "train_network(model, train_set[:5000], train_labels[:5000], num_epochs=8)"
   ]
  },
  {
   "cell_type": "code",
   "execution_count": 9,
   "metadata": {},
   "outputs": [
    {
     "name": "stderr",
     "output_type": "stream",
     "text": [
      "Evaluating...: 100%|██████████| 5000/5000 [00:37<00:00, 132.26it/s]"
     ]
    },
    {
     "name": "stdout",
     "output_type": "stream",
     "text": [
      "Accuracy: 27.40% | Error: 72.60% | Misclassified: 3630\n"
     ]
    },
    {
     "name": "stderr",
     "output_type": "stream",
     "text": [
      "\n"
     ]
    }
   ],
   "source": [
    "train_acc_do, train_err_do, train_misc_do = evaluate(model, train_set[:5000], train_labels[:5000])"
   ]
  },
  {
   "cell_type": "code",
   "execution_count": 10,
   "metadata": {},
   "outputs": [
    {
     "name": "stderr",
     "output_type": "stream",
     "text": [
      "Evaluating...: 100%|██████████| 10000/10000 [01:13<00:00, 136.36it/s]"
     ]
    },
    {
     "name": "stdout",
     "output_type": "stream",
     "text": [
      "Accuracy: 26.45% | Error: 73.55% | Misclassified: 7355\n"
     ]
    },
    {
     "name": "stderr",
     "output_type": "stream",
     "text": [
      "\n"
     ]
    }
   ],
   "source": [
    "test_acc_do, test_err_do, test_misc_do = evaluate(model, test_set, test_labels)"
   ]
  },
  {
   "cell_type": "markdown",
   "metadata": {},
   "source": [
    "### Tables"
   ]
  },
  {
   "cell_type": "code",
   "execution_count": 17,
   "metadata": {},
   "outputs": [
    {
     "data": {
      "text/html": [
       "<div>\n",
       "<style scoped>\n",
       "    .dataframe tbody tr th:only-of-type {\n",
       "        vertical-align: middle;\n",
       "    }\n",
       "\n",
       "    .dataframe tbody tr th {\n",
       "        vertical-align: top;\n",
       "    }\n",
       "\n",
       "    .dataframe thead th {\n",
       "        text-align: right;\n",
       "    }\n",
       "</style>\n",
       "<table border=\"1\" class=\"dataframe\">\n",
       "  <thead>\n",
       "    <tr style=\"text-align: right;\">\n",
       "      <th></th>\n",
       "      <th>Setting</th>\n",
       "      <th>Test Error [%]</th>\n",
       "      <th># Test Misclassified</th>\n",
       "      <th>Train Error [%]</th>\n",
       "      <th># Train Misclassified</th>\n",
       "    </tr>\n",
       "  </thead>\n",
       "  <tbody>\n",
       "    <tr>\n",
       "      <th>0</th>\n",
       "      <td>w/o Dropout</td>\n",
       "      <td>0.6014</td>\n",
       "      <td>6014</td>\n",
       "      <td>0.4586</td>\n",
       "      <td>2293</td>\n",
       "    </tr>\n",
       "    <tr>\n",
       "      <th>1</th>\n",
       "      <td>w/ Dropout</td>\n",
       "      <td>0.7355</td>\n",
       "      <td>7355</td>\n",
       "      <td>0.7260</td>\n",
       "      <td>3630</td>\n",
       "    </tr>\n",
       "  </tbody>\n",
       "</table>\n",
       "</div>"
      ],
      "text/plain": [
       "       Setting  Test Error [%]  # Test Misclassified  Train Error [%]  \\\n",
       "0  w/o Dropout          0.6014                  6014           0.4586   \n",
       "1   w/ Dropout          0.7355                  7355           0.7260   \n",
       "\n",
       "   # Train Misclassified  \n",
       "0                   2293  \n",
       "1                   3630  "
      ]
     },
     "execution_count": 17,
     "metadata": {},
     "output_type": "execute_result"
    }
   ],
   "source": [
    "pd.DataFrame([\n",
    "    {\n",
    "        \"Setting\": \"w/o Dropout\",\n",
    "        \"Test Error [%]\": test_err,\n",
    "        \"# Test Misclassified\": test_misc,\n",
    "        \"Train Error [%]\": train_err,\n",
    "        \"# Train Misclassified\": train_misc,\n",
    "    },\n",
    "    {\n",
    "        \"Setting\": \"w/ Dropout\",\n",
    "        \"Test Error [%]\": test_err_do,\n",
    "        \"# Test Misclassified\": test_misc_do,\n",
    "        \"Train Error [%]\": train_err_do,\n",
    "        \"# Train Misclassified\": train_misc_do,\n",
    "    }\n",
    "\n",
    "])"
   ]
  }
 ],
 "metadata": {
  "kernelspec": {
   "display_name": "venv-al",
   "language": "python",
   "name": "python3"
  },
  "language_info": {
   "codemirror_mode": {
    "name": "ipython",
    "version": 3
   },
   "file_extension": ".py",
   "mimetype": "text/x-python",
   "name": "python",
   "nbconvert_exporter": "python",
   "pygments_lexer": "ipython3",
   "version": "3.9.18"
  }
 },
 "nbformat": 4,
 "nbformat_minor": 2
}
