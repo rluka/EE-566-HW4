{
 "cells": [
  {
   "cell_type": "code",
   "execution_count": 1,
   "metadata": {},
   "outputs": [],
   "source": [
    "%load_ext autoreload\n",
    "%autoreload 2"
   ]
  },
  {
   "cell_type": "code",
   "execution_count": 2,
   "metadata": {},
   "outputs": [],
   "source": [
    "import numpy as np\n",
    "import pandas as pd \n",
    "\n",
    "from tqdm import tqdm\n",
    "from utils import *"
   ]
  },
  {
   "cell_type": "code",
   "execution_count": 3,
   "metadata": {},
   "outputs": [
    {
     "name": "stdout",
     "output_type": "stream",
     "text": [
      "Files already downloaded and verified\n",
      "Files already downloaded and verified\n"
     ]
    }
   ],
   "source": [
    "train_set, train_labels, test_set, test_labels = load_and_preprocess_data(path='./data/CIFAR10')"
   ]
  },
  {
   "cell_type": "code",
   "execution_count": 4,
   "metadata": {},
   "outputs": [],
   "source": [
    "mu = 1e-3\n",
    "rho = 1e-4\n",
    "\n",
    "input_size = 32 * 32 * 3\n",
    "hidden_size = 2048\n",
    "output_size = 10"
   ]
  },
  {
   "cell_type": "code",
   "execution_count": 5,
   "metadata": {},
   "outputs": [],
   "source": [
    "def train_network(model: NeuralNetwork, train_set, train_labels, num_epochs):\n",
    "    N_samples = train_set.shape[0]\n",
    "\n",
    "    # Add accuracy and loss tracking\n",
    "\n",
    "    for epoch in range(num_epochs):\n",
    "        \n",
    "        data_idx = np.random.permutation(N_samples)\n",
    "        running_epoch_loss = 0\n",
    "        running_predictions = []\n",
    "        running_labels = []\n",
    "        \n",
    "        pbar = tqdm(total=N_samples)\n",
    "        for iter, idx in enumerate(data_idx):\n",
    "            h = train_set[idx]\n",
    "            gamma = transform_label(train_labels[idx])\n",
    "\n",
    "            gamma_hat = model.forward(h)\n",
    "            loss = cross_entropy_loss(gamma_hat, gamma, model.rho, model.weights())\n",
    "            model.backward(gamma_hat, gamma)\n",
    "\n",
    "            running_epoch_loss += loss\n",
    "    \n",
    "            running_predictions.append(np.argmax(gamma_hat))\n",
    "            running_labels.append(train_labels[idx])\n",
    "\n",
    "            pbar.update(1)\n",
    "            pbar.set_description(f'Train loss: {loss:.4f}')\n",
    "        pbar.close()\n",
    "\n",
    "        epoch_loss = running_epoch_loss / N_samples\n",
    "        epoch_accuracy = np.mean(np.array(running_predictions) == np.array(running_labels))\n",
    "\n",
    "        print(f\"Epoch: {epoch + 1} | Train Loss {epoch_loss:.4f} | Train Accuracy: {epoch_accuracy * 100:.2f}%\")\n",
    "\n",
    "    model.normalize_weights()"
   ]
  },
  {
   "cell_type": "code",
   "execution_count": 6,
   "metadata": {},
   "outputs": [],
   "source": [
    "def evaluate(model: NeuralNetwork, dataset, labels):\n",
    "    N_samples = dataset.shape[0]\n",
    "\n",
    "    running_predictions = []\n",
    "    running_labels = []\n",
    "\n",
    "    pbar = tqdm(total=N_samples)\n",
    "    for idx in range(N_samples):\n",
    "        h = dataset[idx]\n",
    "        gamma = transform_label(labels[idx])\n",
    "        gamma_hat = model.forward(h)\n",
    "\n",
    "        running_predictions.append(np.argmax(gamma_hat))\n",
    "        running_labels.append(labels[idx])\n",
    "\n",
    "        pbar.update(1)\n",
    "        pbar.set_description(\"Evaluating...\")\n",
    "    pbar.close()\n",
    "\n",
    "    num_misclassified = np.sum(np.array(running_predictions) != np.array(running_labels))\n",
    "    error = num_misclassified / N_samples\n",
    "    accuracy = 1 - error\n",
    "\n",
    "    print(f\"Accuracy: {accuracy * 100:.2f}% | Error: {error * 100:.2f}% | Misclassified: {num_misclassified}\")\n",
    "\n",
    "    return accuracy, error, num_misclassified\n"
   ]
  },
  {
   "cell_type": "markdown",
   "metadata": {},
   "source": [
    "### Training without dropout"
   ]
  },
  {
   "cell_type": "code",
   "execution_count": 7,
   "metadata": {},
   "outputs": [],
   "source": [
    "model = NeuralNetwork(input_size, hidden_size, output_size, ReLU, d_ReLU, mu, rho)"
   ]
  },
  {
   "cell_type": "code",
   "execution_count": 8,
   "metadata": {},
   "outputs": [
    {
     "name": "stderr",
     "output_type": "stream",
     "text": [
      "Train loss: 3.2180: 100%|██████████| 5000/5000 [05:04<00:00, 16.43it/s]\n"
     ]
    },
    {
     "name": "stdout",
     "output_type": "stream",
     "text": [
      "Epoch: 1 | Train Loss 2.1334 | Train Accuracy: 27.84%\n"
     ]
    },
    {
     "name": "stderr",
     "output_type": "stream",
     "text": [
      "Train loss: 3.8849: 100%|██████████| 5000/5000 [05:03<00:00, 16.47it/s]\n"
     ]
    },
    {
     "name": "stdout",
     "output_type": "stream",
     "text": [
      "Epoch: 2 | Train Loss 1.8486 | Train Accuracy: 38.80%\n"
     ]
    },
    {
     "name": "stderr",
     "output_type": "stream",
     "text": [
      "Train loss: 3.8922: 100%|██████████| 5000/5000 [05:03<00:00, 16.48it/s]\n"
     ]
    },
    {
     "name": "stdout",
     "output_type": "stream",
     "text": [
      "Epoch: 3 | Train Loss 1.7215 | Train Accuracy: 43.38%\n"
     ]
    },
    {
     "name": "stderr",
     "output_type": "stream",
     "text": [
      "Train loss: 1.1012: 100%|██████████| 5000/5000 [05:02<00:00, 16.53it/s]\n"
     ]
    },
    {
     "name": "stdout",
     "output_type": "stream",
     "text": [
      "Epoch: 4 | Train Loss 1.6097 | Train Accuracy: 46.58%\n"
     ]
    },
    {
     "name": "stderr",
     "output_type": "stream",
     "text": [
      "Train loss: 0.8931: 100%|██████████| 5000/5000 [05:00<00:00, 16.61it/s]\n"
     ]
    },
    {
     "name": "stdout",
     "output_type": "stream",
     "text": [
      "Epoch: 5 | Train Loss 1.5004 | Train Accuracy: 51.58%\n"
     ]
    },
    {
     "name": "stderr",
     "output_type": "stream",
     "text": [
      "Train loss: 3.6884: 100%|██████████| 5000/5000 [08:41<00:00,  9.60it/s]   \n"
     ]
    },
    {
     "name": "stdout",
     "output_type": "stream",
     "text": [
      "Epoch: 6 | Train Loss 1.4031 | Train Accuracy: 55.60%\n"
     ]
    },
    {
     "name": "stderr",
     "output_type": "stream",
     "text": [
      "Train loss: 0.2752: 100%|██████████| 5000/5000 [04:44<00:00, 17.56it/s]\n"
     ]
    },
    {
     "name": "stdout",
     "output_type": "stream",
     "text": [
      "Epoch: 7 | Train Loss 1.3033 | Train Accuracy: 58.64%\n"
     ]
    },
    {
     "name": "stderr",
     "output_type": "stream",
     "text": [
      "Train loss: 1.7961: 100%|██████████| 5000/5000 [04:55<00:00, 16.94it/s]\n"
     ]
    },
    {
     "name": "stdout",
     "output_type": "stream",
     "text": [
      "Epoch: 8 | Train Loss 1.1911 | Train Accuracy: 62.90%\n"
     ]
    },
    {
     "name": "stderr",
     "output_type": "stream",
     "text": [
      "Train loss: 1.7069: 100%|██████████| 5000/5000 [04:56<00:00, 16.86it/s]\n"
     ]
    },
    {
     "name": "stdout",
     "output_type": "stream",
     "text": [
      "Epoch: 9 | Train Loss 1.0878 | Train Accuracy: 67.00%\n"
     ]
    },
    {
     "name": "stderr",
     "output_type": "stream",
     "text": [
      "Train loss: 0.5474: 100%|██████████| 5000/5000 [05:15<00:00, 15.83it/s]"
     ]
    },
    {
     "name": "stdout",
     "output_type": "stream",
     "text": [
      "Epoch: 10 | Train Loss 0.9865 | Train Accuracy: 69.70%\n"
     ]
    },
    {
     "name": "stderr",
     "output_type": "stream",
     "text": [
      "\n"
     ]
    }
   ],
   "source": [
    "train_network(model, train_set[:5000], train_labels[:5000], num_epochs=10)"
   ]
  },
  {
   "cell_type": "code",
   "execution_count": 9,
   "metadata": {},
   "outputs": [
    {
     "name": "stderr",
     "output_type": "stream",
     "text": [
      "Evaluating...: 100%|██████████| 5000/5000 [00:48<00:00, 103.26it/s]"
     ]
    },
    {
     "name": "stdout",
     "output_type": "stream",
     "text": [
      "Accuracy: 74.14% | Error: 25.86% | Misclassified: 1293\n"
     ]
    },
    {
     "name": "stderr",
     "output_type": "stream",
     "text": [
      "\n"
     ]
    }
   ],
   "source": [
    "train_acc, train_err, train_misc = evaluate(model, train_set[:5000], train_labels[:5000])"
   ]
  },
  {
   "cell_type": "code",
   "execution_count": 10,
   "metadata": {},
   "outputs": [
    {
     "name": "stderr",
     "output_type": "stream",
     "text": [
      "Evaluating...: 100%|██████████| 10000/10000 [01:30<00:00, 110.27it/s]"
     ]
    },
    {
     "name": "stdout",
     "output_type": "stream",
     "text": [
      "Accuracy: 42.00% | Error: 58.00% | Misclassified: 5800\n"
     ]
    },
    {
     "name": "stderr",
     "output_type": "stream",
     "text": [
      "\n"
     ]
    }
   ],
   "source": [
    "test_acc, test_err, test_misc = evaluate(model, test_set, test_labels)"
   ]
  },
  {
   "cell_type": "markdown",
   "metadata": {},
   "source": [
    "### Training with dropout"
   ]
  },
  {
   "cell_type": "code",
   "execution_count": 11,
   "metadata": {},
   "outputs": [],
   "source": [
    "model = NeuralNetwork(input_size, hidden_size, output_size, ReLU, d_ReLU, mu, rho, p_dropout=[0.1, 0.5, 0.5])"
   ]
  },
  {
   "cell_type": "code",
   "execution_count": 12,
   "metadata": {},
   "outputs": [
    {
     "name": "stderr",
     "output_type": "stream",
     "text": [
      "Train loss: 2.4097: 100%|██████████| 5000/5000 [04:44<00:00, 17.60it/s]\n"
     ]
    },
    {
     "name": "stdout",
     "output_type": "stream",
     "text": [
      "Epoch: 1 | Train Loss 2.3833 | Train Accuracy: 17.00%\n"
     ]
    },
    {
     "name": "stderr",
     "output_type": "stream",
     "text": [
      "Train loss: 1.6695: 100%|██████████| 5000/5000 [04:46<00:00, 17.47it/s]\n"
     ]
    },
    {
     "name": "stdout",
     "output_type": "stream",
     "text": [
      "Epoch: 2 | Train Loss 2.1542 | Train Accuracy: 25.02%\n"
     ]
    },
    {
     "name": "stderr",
     "output_type": "stream",
     "text": [
      "Train loss: 1.9472: 100%|██████████| 5000/5000 [04:49<00:00, 17.27it/s]\n"
     ]
    },
    {
     "name": "stdout",
     "output_type": "stream",
     "text": [
      "Epoch: 3 | Train Loss 2.0527 | Train Accuracy: 30.04%\n"
     ]
    },
    {
     "name": "stderr",
     "output_type": "stream",
     "text": [
      "Train loss: 4.6983: 100%|██████████| 5000/5000 [05:04<00:00, 16.43it/s]\n"
     ]
    },
    {
     "name": "stdout",
     "output_type": "stream",
     "text": [
      "Epoch: 4 | Train Loss 1.9850 | Train Accuracy: 32.86%\n"
     ]
    },
    {
     "name": "stderr",
     "output_type": "stream",
     "text": [
      "Train loss: 1.0751: 100%|██████████| 5000/5000 [04:48<00:00, 17.33it/s]\n"
     ]
    },
    {
     "name": "stdout",
     "output_type": "stream",
     "text": [
      "Epoch: 5 | Train Loss 1.9337 | Train Accuracy: 36.06%\n"
     ]
    },
    {
     "name": "stderr",
     "output_type": "stream",
     "text": [
      "Train loss: 0.4978: 100%|██████████| 5000/5000 [04:58<00:00, 16.73it/s]\n"
     ]
    },
    {
     "name": "stdout",
     "output_type": "stream",
     "text": [
      "Epoch: 6 | Train Loss 1.8774 | Train Accuracy: 37.38%\n"
     ]
    },
    {
     "name": "stderr",
     "output_type": "stream",
     "text": [
      "Train loss: 3.0745: 100%|██████████| 5000/5000 [04:54<00:00, 16.95it/s]\n"
     ]
    },
    {
     "name": "stdout",
     "output_type": "stream",
     "text": [
      "Epoch: 7 | Train Loss 1.8373 | Train Accuracy: 38.96%\n"
     ]
    },
    {
     "name": "stderr",
     "output_type": "stream",
     "text": [
      "Train loss: 4.0996: 100%|██████████| 5000/5000 [06:14<00:00, 13.36it/s]  \n"
     ]
    },
    {
     "name": "stdout",
     "output_type": "stream",
     "text": [
      "Epoch: 8 | Train Loss 1.8023 | Train Accuracy: 39.96%\n"
     ]
    },
    {
     "name": "stderr",
     "output_type": "stream",
     "text": [
      "Train loss: 0.5832: 100%|██████████| 5000/5000 [05:00<00:00, 16.65it/s]\n"
     ]
    },
    {
     "name": "stdout",
     "output_type": "stream",
     "text": [
      "Epoch: 9 | Train Loss 1.7643 | Train Accuracy: 41.28%\n"
     ]
    },
    {
     "name": "stderr",
     "output_type": "stream",
     "text": [
      "Train loss: 6.2708: 100%|██████████| 5000/5000 [04:49<00:00, 17.29it/s]\n"
     ]
    },
    {
     "name": "stdout",
     "output_type": "stream",
     "text": [
      "Epoch: 10 | Train Loss 1.7327 | Train Accuracy: 42.68%\n"
     ]
    },
    {
     "name": "stderr",
     "output_type": "stream",
     "text": [
      "Train loss: 2.3310: 100%|██████████| 5000/5000 [04:50<00:00, 17.20it/s]\n"
     ]
    },
    {
     "name": "stdout",
     "output_type": "stream",
     "text": [
      "Epoch: 11 | Train Loss 1.7057 | Train Accuracy: 43.80%\n"
     ]
    },
    {
     "name": "stderr",
     "output_type": "stream",
     "text": [
      "Train loss: 1.9590: 100%|██████████| 5000/5000 [04:57<00:00, 16.83it/s]\n"
     ]
    },
    {
     "name": "stdout",
     "output_type": "stream",
     "text": [
      "Epoch: 12 | Train Loss 1.6831 | Train Accuracy: 44.62%\n"
     ]
    },
    {
     "name": "stderr",
     "output_type": "stream",
     "text": [
      "Train loss: 2.0367: 100%|██████████| 5000/5000 [04:53<00:00, 17.02it/s]\n"
     ]
    },
    {
     "name": "stdout",
     "output_type": "stream",
     "text": [
      "Epoch: 13 | Train Loss 1.6554 | Train Accuracy: 44.68%\n"
     ]
    },
    {
     "name": "stderr",
     "output_type": "stream",
     "text": [
      "Train loss: 0.4665: 100%|██████████| 5000/5000 [04:54<00:00, 17.01it/s]\n"
     ]
    },
    {
     "name": "stdout",
     "output_type": "stream",
     "text": [
      "Epoch: 14 | Train Loss 1.6275 | Train Accuracy: 46.46%\n"
     ]
    },
    {
     "name": "stderr",
     "output_type": "stream",
     "text": [
      "Train loss: 0.8303: 100%|██████████| 5000/5000 [05:04<00:00, 16.43it/s]"
     ]
    },
    {
     "name": "stdout",
     "output_type": "stream",
     "text": [
      "Epoch: 15 | Train Loss 1.5969 | Train Accuracy: 47.50%\n"
     ]
    },
    {
     "name": "stderr",
     "output_type": "stream",
     "text": [
      "\n"
     ]
    }
   ],
   "source": [
    "train_network(model, train_set[:5000], train_labels[:5000], num_epochs=15)"
   ]
  },
  {
   "cell_type": "code",
   "execution_count": 13,
   "metadata": {},
   "outputs": [
    {
     "name": "stderr",
     "output_type": "stream",
     "text": [
      "Evaluating...: 100%|██████████| 5000/5000 [00:34<00:00, 143.54it/s]"
     ]
    },
    {
     "name": "stdout",
     "output_type": "stream",
     "text": [
      "Accuracy: 41.06% | Error: 58.94% | Misclassified: 2947\n"
     ]
    },
    {
     "name": "stderr",
     "output_type": "stream",
     "text": [
      "\n"
     ]
    }
   ],
   "source": [
    "train_acc_do, train_err_do, train_misc_do = evaluate(model, train_set[:5000], train_labels[:5000])"
   ]
  },
  {
   "cell_type": "code",
   "execution_count": 14,
   "metadata": {},
   "outputs": [
    {
     "name": "stderr",
     "output_type": "stream",
     "text": [
      "Evaluating...: 100%|██████████| 10000/10000 [01:07<00:00, 147.88it/s]"
     ]
    },
    {
     "name": "stdout",
     "output_type": "stream",
     "text": [
      "Accuracy: 33.81% | Error: 66.19% | Misclassified: 6619\n"
     ]
    },
    {
     "name": "stderr",
     "output_type": "stream",
     "text": [
      "\n"
     ]
    }
   ],
   "source": [
    "test_acc_do, test_err_do, test_misc_do = evaluate(model, test_set, test_labels)"
   ]
  },
  {
   "cell_type": "markdown",
   "metadata": {},
   "source": [
    "### Tables"
   ]
  },
  {
   "cell_type": "code",
   "execution_count": 16,
   "metadata": {},
   "outputs": [
    {
     "data": {
      "text/html": [
       "<div>\n",
       "<style scoped>\n",
       "    .dataframe tbody tr th:only-of-type {\n",
       "        vertical-align: middle;\n",
       "    }\n",
       "\n",
       "    .dataframe tbody tr th {\n",
       "        vertical-align: top;\n",
       "    }\n",
       "\n",
       "    .dataframe thead th {\n",
       "        text-align: right;\n",
       "    }\n",
       "</style>\n",
       "<table border=\"1\" class=\"dataframe\">\n",
       "  <thead>\n",
       "    <tr style=\"text-align: right;\">\n",
       "      <th></th>\n",
       "      <th>Setting</th>\n",
       "      <th>Test Error [%]</th>\n",
       "      <th># Test Misclassified</th>\n",
       "      <th>Train Error [%]</th>\n",
       "      <th># Train Misclassified</th>\n",
       "    </tr>\n",
       "  </thead>\n",
       "  <tbody>\n",
       "    <tr>\n",
       "      <th>0</th>\n",
       "      <td>w/o Dropout</td>\n",
       "      <td>58.00</td>\n",
       "      <td>5800</td>\n",
       "      <td>25.86</td>\n",
       "      <td>1293</td>\n",
       "    </tr>\n",
       "    <tr>\n",
       "      <th>1</th>\n",
       "      <td>w/ Dropout</td>\n",
       "      <td>66.19</td>\n",
       "      <td>6619</td>\n",
       "      <td>58.94</td>\n",
       "      <td>2947</td>\n",
       "    </tr>\n",
       "  </tbody>\n",
       "</table>\n",
       "</div>"
      ],
      "text/plain": [
       "       Setting  Test Error [%]  # Test Misclassified  Train Error [%]  \\\n",
       "0  w/o Dropout           58.00                  5800            25.86   \n",
       "1   w/ Dropout           66.19                  6619            58.94   \n",
       "\n",
       "   # Train Misclassified  \n",
       "0                   1293  \n",
       "1                   2947  "
      ]
     },
     "execution_count": 16,
     "metadata": {},
     "output_type": "execute_result"
    }
   ],
   "source": [
    "pd.DataFrame([\n",
    "    {\n",
    "        \"Setting\": \"w/o Dropout\",\n",
    "        \"Test Error [%]\": test_err*100,\n",
    "        \"# Test Misclassified\": test_misc,\n",
    "        \"Train Error [%]\": train_err*100,\n",
    "        \"# Train Misclassified\": train_misc,\n",
    "    },\n",
    "    {\n",
    "        \"Setting\": \"w/ Dropout\",\n",
    "        \"Test Error [%]\": test_err_do*100,\n",
    "        \"# Test Misclassified\": test_misc_do,\n",
    "        \"Train Error [%]\": train_err_do*100,\n",
    "        \"# Train Misclassified\": train_misc_do,\n",
    "    }\n",
    "\n",
    "])"
   ]
  }
 ],
 "metadata": {
  "kernelspec": {
   "display_name": "venv-al",
   "language": "python",
   "name": "python3"
  },
  "language_info": {
   "codemirror_mode": {
    "name": "ipython",
    "version": 3
   },
   "file_extension": ".py",
   "mimetype": "text/x-python",
   "name": "python",
   "nbconvert_exporter": "python",
   "pygments_lexer": "ipython3",
   "version": "3.9.18"
  }
 },
 "nbformat": 4,
 "nbformat_minor": 2
}
