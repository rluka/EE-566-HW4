{
 "cells": [
  {
   "cell_type": "code",
   "execution_count": null,
   "metadata": {},
   "outputs": [],
   "source": [
    "%load_ext autoreload\n",
    "%autoreload 2"
   ]
  },
  {
   "cell_type": "code",
   "execution_count": null,
   "metadata": {},
   "outputs": [],
   "source": [
    "import numpy as np\n",
    "\n",
    "from tqdm import tqdm\n",
    "from utils import *"
   ]
  },
  {
   "cell_type": "code",
   "execution_count": null,
   "metadata": {},
   "outputs": [],
   "source": [
    "train_set, train_labels, test_set, test_labels = load_and_preprocess_data(path='./data/CIFAR10')"
   ]
  },
  {
   "cell_type": "code",
   "execution_count": null,
   "metadata": {},
   "outputs": [],
   "source": [
    "mu = 1e-3\n",
    "rho = 1e-4\n",
    "\n",
    "input_size = 32 * 32 * 3\n",
    "hidden_size = 2048\n",
    "output_size = 10\n",
    "\n",
    "model = NeuralNetwork(input_size, hidden_size, output_size, sigmoid, d_sigmoid, mu, rho)"
   ]
  },
  {
   "cell_type": "code",
   "execution_count": null,
   "metadata": {},
   "outputs": [],
   "source": [
    "def train_network(model: NeuralNetwork, train_set, train_labels, num_epochs, p_dropout=None):\n",
    "    N_samples = train_set.shape[0]\n",
    "\n",
    "    # Add accuracy and loss tracking\n",
    "\n",
    "    for epoch in range(num_epochs):\n",
    "        \n",
    "        data_idx = np.random.permutation(N_samples)\n",
    "        running_epoch_loss = 0\n",
    "        running_predictions = []\n",
    "        running_labels = []\n",
    "        \n",
    "        pbar = tqdm(total=N_samples)\n",
    "        for iter, idx in enumerate(data_idx):\n",
    "            h = train_set[idx]\n",
    "            gamma = transform_label(train_labels[idx])\n",
    "\n",
    "            gamma_hat = model.forward(h)\n",
    "            loss = cross_entropy_loss(gamma_hat, gamma, model.rho, model.weights())\n",
    "            model.backward(gamma_hat, gamma)\n",
    "\n",
    "            running_epoch_loss += loss\n",
    "    §\n",
    "            running_predictions.append(np.argmax(gamma_hat))\n",
    "            running_labels.append(train_labels[idx])\n",
    "\n",
    "            pbar.update(1)\n",
    "            pbar.set_description(f'Train loss: {loss:.4f}')\n",
    "        pbar.close()\n",
    "\n",
    "        epoch_loss = running_epoch_loss / N_samples\n",
    "        epoch_accuracy = np.mean(np.array(running_predictions) == np.array(running_labels))\n",
    "\n",
    "        print(f\"Epoch: {epoch + 1} | Train Loss {epoch_loss:.4f} | Train Accuracy: {epoch_accuracy * 100:.2f}%\")"
   ]
  },
  {
   "cell_type": "code",
   "execution_count": null,
   "metadata": {},
   "outputs": [],
   "source": [
    "train_network(model, train_set[:10000], train_labels[:10000], num_epochs=10)"
   ]
  }
 ],
 "metadata": {
  "kernelspec": {
   "display_name": "venv-al",
   "language": "python",
   "name": "python3"
  },
  "language_info": {
   "codemirror_mode": {
    "name": "ipython",
    "version": 3
   },
   "file_extension": ".py",
   "mimetype": "text/x-python",
   "name": "python",
   "nbconvert_exporter": "python",
   "pygments_lexer": "ipython3",
   "version": "3.9.18"
  }
 },
 "nbformat": 4,
 "nbformat_minor": 2
}
